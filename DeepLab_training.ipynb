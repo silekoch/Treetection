{
 "cells": [
  {
   "cell_type": "code",
   "execution_count": 3,
   "metadata": {},
   "outputs": [],
   "source": [
    "from ForestCoverDataset import ForestCoverDataset\n",
    "from DeepLab import TreepLab\n",
    "import torch\n",
    "import pytorch_lightning as pl"
   ]
  },
  {
   "cell_type": "code",
   "execution_count": 5,
   "metadata": {},
   "outputs": [
    {
     "name": "stderr",
     "output_type": "stream",
     "text": [
      "GPU available: False, used: False\n",
      "TPU available: False, using: 0 TPU cores\n",
      "IPU available: False, using: 0 IPUs\n",
      "\n",
      "  | Name    | Type      | Params\n",
      "--------------------------------------\n",
      "0 | model   | DeepLabV3 | 15.9 M\n",
      "1 | loss_fn | DiceLoss  | 0     \n",
      "--------------------------------------\n",
      "15.9 M    Trainable params\n",
      "0         Non-trainable params\n",
      "15.9 M    Total params\n",
      "63.596    Total estimated model params size (MB)\n"
     ]
    },
    {
     "name": "stdout",
     "output_type": "stream",
     "text": [
      "                                                                      "
     ]
    },
    {
     "name": "stderr",
     "output_type": "stream",
     "text": [
      "/opt/homebrew/Caskroom/miniconda/base/envs/notebooks/lib/python3.11/site-packages/pytorch_lightning/trainer/data_loading.py:407: UserWarning: The number of training samples (32) is smaller than the logging interval Trainer(log_every_n_steps=50). Set a lower value for log_every_n_steps if you want to see logs for the training epoch.\n",
      "  rank_zero_warn(\n"
     ]
    },
    {
     "name": "stdout",
     "output_type": "stream",
     "text": [
      "Epoch 0: 100%|██████████| 39/39 [14:15<00:00, 21.95s/it, loss=0.16, v_num=11, valid_per_image_iou=0.627, valid_dataset_iou=0.764]\n"
     ]
    },
    {
     "name": "stderr",
     "output_type": "stream",
     "text": [
      "FIT Profiler Report\n",
      "\n",
      "Action                             \t|  Mean duration (s)\t|Num calls      \t|  Total time (s) \t|  Percentage %   \t|\n",
      "--------------------------------------------------------------------------------------------------------------------------------------\n",
      "Total                              \t|  -              \t|_              \t|  894.0          \t|  100 %          \t|\n",
      "--------------------------------------------------------------------------------------------------------------------------------------\n",
      "run_training_epoch                 \t|  855.85         \t|1              \t|  855.85         \t|  95.733         \t|\n",
      "run_training_batch                 \t|  23.757         \t|32             \t|  760.21         \t|  85.035         \t|\n",
      "optimizer_step_with_closure_0      \t|  23.756         \t|32             \t|  760.19         \t|  85.032         \t|\n",
      "training_step_and_backward         \t|  23.698         \t|32             \t|  758.33         \t|  84.824         \t|\n",
      "backward                           \t|  14.905         \t|32             \t|  476.95         \t|  53.35          \t|\n",
      "model_forward                      \t|  8.7864         \t|32             \t|  281.17         \t|  31.45          \t|\n",
      "training_step                      \t|  8.7851         \t|32             \t|  281.12         \t|  31.446         \t|\n",
      "evaluation_step_and_end            \t|  7.2681         \t|9              \t|  65.413         \t|  7.3169         \t|\n",
      "validation_step                    \t|  7.268          \t|9              \t|  65.412         \t|  7.3168         \t|\n",
      "get_validate_batch                 \t|  2.8568         \t|8              \t|  22.854         \t|  2.5564         \t|\n",
      "fetch_next_validate_batch          \t|  2.8567         \t|8              \t|  22.854         \t|  2.5564         \t|\n",
      "get_train_batch                    \t|  0.67952        \t|33             \t|  22.424         \t|  2.5083         \t|\n",
      "fetch_next_train_batch             \t|  0.67951        \t|33             \t|  22.424         \t|  2.5083         \t|\n",
      "get_sanity_check_batch             \t|  0.83679        \t|3              \t|  2.5104         \t|  0.2808         \t|\n",
      "fetch_next_sanity_check_batch      \t|  0.83677        \t|3              \t|  2.5103         \t|  0.28079        \t|\n",
      "zero_grad                          \t|  0.0064542      \t|32             \t|  0.20653        \t|  0.023102       \t|\n",
      "on_train_epoch_end                 \t|  0.1582         \t|1              \t|  0.1582         \t|  0.017696       \t|\n",
      "on_train_batch_end                 \t|  0.0021697      \t|32             \t|  0.06943        \t|  0.0077662      \t|\n",
      "on_validation_batch_end            \t|  0.0013942      \t|9              \t|  0.012547       \t|  0.0014035      \t|\n",
      "training_step_end                  \t|  0.0001011      \t|32             \t|  0.0032352      \t|  0.00036188     \t|\n",
      "training_batch_to_device           \t|  9.5055e-05     \t|32             \t|  0.0030417      \t|  0.00034024     \t|\n",
      "on_before_zero_grad                \t|  7.8806e-05     \t|32             \t|  0.0025218      \t|  0.00028208     \t|\n",
      "on_validation_start                \t|  0.0012242      \t|2              \t|  0.0024485      \t|  0.00027388     \t|\n",
      "on_train_batch_start               \t|  6.337e-05      \t|32             \t|  0.0020278      \t|  0.00022683     \t|\n",
      "on_validation_end                  \t|  0.00089033     \t|2              \t|  0.0017807      \t|  0.00019918     \t|\n",
      "on_pretrain_routine_start          \t|  0.0016284      \t|1              \t|  0.0016284      \t|  0.00018214     \t|\n",
      "on_before_backward                 \t|  4.2246e-05     \t|32             \t|  0.0013519      \t|  0.00015122     \t|\n",
      "evaluation_batch_to_device         \t|  0.00011562     \t|9              \t|  0.0010405      \t|  0.00011639     \t|\n",
      "on_sanity_check_start              \t|  0.00095092     \t|1              \t|  0.00095092     \t|  0.00010637     \t|\n",
      "on_after_backward                  \t|  2.971e-05      \t|32             \t|  0.00095071     \t|  0.00010634     \t|\n",
      "on_train_start                     \t|  0.00078058     \t|1              \t|  0.00078058     \t|  8.7313e-05     \t|\n",
      "on_batch_end                       \t|  2.0637e-05     \t|32             \t|  0.00066037     \t|  7.3867e-05     \t|\n",
      "on_train_epoch_start               \t|  0.00055025     \t|1              \t|  0.00055025     \t|  6.1549e-05     \t|\n",
      "on_train_end                       \t|  0.00053967     \t|1              \t|  0.00053967     \t|  6.0365e-05     \t|\n",
      "on_validation_model_eval           \t|  0.00025627     \t|2              \t|  0.00051254     \t|  5.7331e-05     \t|\n",
      "on_before_optimizer_step           \t|  1.3771e-05     \t|32             \t|  0.00044066     \t|  4.9291e-05     \t|\n",
      "on_batch_start                     \t|  1.2165e-05     \t|32             \t|  0.00038929     \t|  4.3545e-05     \t|\n",
      "configure_optimizers               \t|  0.00024113     \t|1              \t|  0.00024113     \t|  2.6971e-05     \t|\n",
      "on_validation_batch_start          \t|  1.0514e-05     \t|9              \t|  9.4624e-05     \t|  1.0584e-05     \t|\n",
      "validation_step_end                \t|  8.1899e-06     \t|9              \t|  7.3709e-05     \t|  8.2448e-06     \t|\n",
      "on_fit_end                         \t|  2.1875e-05     \t|1              \t|  2.1875e-05     \t|  2.4469e-06     \t|\n",
      "teardown                           \t|  2.175e-05      \t|1              \t|  2.175e-05      \t|  2.4329e-06     \t|\n",
      "on_validation_epoch_end            \t|  9.1875e-06     \t|2              \t|  1.8375e-05     \t|  2.0554e-06     \t|\n",
      "on_sanity_check_end                \t|  1.6833e-05     \t|1              \t|  1.6833e-05     \t|  1.8829e-06     \t|\n",
      "on_epoch_end                       \t|  5.1387e-06     \t|3              \t|  1.5416e-05     \t|  1.7244e-06     \t|\n",
      "on_epoch_start                     \t|  5.0697e-06     \t|3              \t|  1.5209e-05     \t|  1.7012e-06     \t|\n",
      "on_before_accelerator_backend_setup\t|  1.0625e-05     \t|1              \t|  1.0625e-05     \t|  1.1885e-06     \t|\n",
      "on_validation_epoch_start          \t|  4.7085e-06     \t|2              \t|  9.417e-06      \t|  1.0534e-06     \t|\n",
      "setup                              \t|  8.5e-06        \t|1              \t|  8.5e-06        \t|  9.5078e-07     \t|\n",
      "on_configure_sharded_model         \t|  7.875e-06      \t|1              \t|  7.875e-06      \t|  8.8087e-07     \t|\n",
      "on_pretrain_routine_end            \t|  7.333e-06      \t|1              \t|  7.333e-06      \t|  8.2024e-07     \t|\n",
      "on_fit_start                       \t|  5.375e-06      \t|1              \t|  5.375e-06      \t|  6.0123e-07     \t|\n",
      "on_val_dataloader                  \t|  3.375e-06      \t|1              \t|  3.375e-06      \t|  3.7752e-07     \t|\n",
      "prepare_data                       \t|  2.625e-06      \t|1              \t|  2.625e-06      \t|  2.9362e-07     \t|\n",
      "configure_sharded_model            \t|  2.625e-06      \t|1              \t|  2.625e-06      \t|  2.9362e-07     \t|\n",
      "on_train_dataloader                \t|  2.375e-06      \t|1              \t|  2.375e-06      \t|  2.6566e-07     \t|\n",
      "configure_callbacks                \t|  1.625e-06      \t|1              \t|  1.625e-06      \t|  1.8177e-07     \t|\n",
      "\n"
     ]
    }
   ],
   "source": [
    "# preprocessing_fn = get_preprocessing_fn('resnet18', pretrained='imagenet')\n",
    "\n",
    "# train_dataset = ForestCoverDataset(mode='train', overfitting_mode='2sample')\n",
    "# val_dataset = ForestCoverDataset(mode='val', overfitting_mode='2sample')\n",
    "\n",
    "# train_dataset = ForestCoverDataset(mode='train', overfitting_mode='batch')\n",
    "# val_dataset = ForestCoverDataset(mode='val', overfitting_mode='batch')\n",
    "\n",
    "train_dataset = ForestCoverDataset(mode='train')\n",
    "val_dataset = ForestCoverDataset(mode='val')\n",
    "\n",
    "BATCH_SIZE = 16\n",
    "\n",
    "train_loader = torch.utils.data.DataLoader(train_dataset, batch_size=BATCH_SIZE, shuffle=True, num_workers=4)\n",
    "val_loader = torch.utils.data.DataLoader(val_dataset, batch_size=BATCH_SIZE, shuffle=False, num_workers=4)\n",
    "\n",
    "# model = smp.DeepLabV3(\n",
    "#     encoder_name=\"resnet18\",\n",
    "#     encoder_weights=\"imagenet\",\n",
    "#     in_channels=3,\n",
    "#     classes=1,\n",
    "# )\n",
    "\n",
    "# model = TreepLab(\"Unet\", \"resnet18\", in_channels=3, out_classes=1)\n",
    "model = TreepLab(\"DeepLabV3\", \"resnet18\", in_channels=3, out_classes=1)\n",
    "\n",
    "trainer = pl.Trainer(\n",
    "    # gpus=1, \n",
    "    max_epochs=1,\n",
    "    profiler=\"simple\",\n",
    ")\n",
    "\n",
    "trainer.fit(\n",
    "    model, \n",
    "    train_dataloaders=train_loader, \n",
    "    val_dataloaders=val_loader,\n",
    ")\n"
   ]
  }
 ],
 "metadata": {
  "kernelspec": {
   "display_name": "notebooks",
   "language": "python",
   "name": "python3"
  },
  "language_info": {
   "codemirror_mode": {
    "name": "ipython",
    "version": 3
   },
   "file_extension": ".py",
   "mimetype": "text/x-python",
   "name": "python",
   "nbconvert_exporter": "python",
   "pygments_lexer": "ipython3",
   "version": "3.11.9"
  }
 },
 "nbformat": 4,
 "nbformat_minor": 2
}
