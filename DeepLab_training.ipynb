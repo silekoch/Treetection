{
 "cells": [
  {
   "cell_type": "code",
   "execution_count": null,
   "metadata": {},
   "outputs": [],
   "source": [
    "from ForestCoverDataset import ForestCoverDataset\n",
    "from DeepLab import TreepLab\n",
    "import torch\n",
    "import pytorch_lightning as pl"
   ]
  },
  {
   "cell_type": "code",
   "execution_count": null,
   "metadata": {},
   "outputs": [],
   "source": [
    "# preprocessing_fn = get_preprocessing_fn('resnet18', pretrained='imagenet')\n",
    "\n",
    "train_dataset = ForestCoverDataset(mode='train', overfitting_mode='2sample')\n",
    "val_dataset = ForestCoverDataset(mode='val', overfitting_mode='2sample')\n",
    "\n",
    "# train_dataset = ForestCoverDataset(mode='train', overfitting_mode='batch')\n",
    "# val_dataset = ForestCoverDataset(mode='val', overfitting_mode='batch')\n",
    "\n",
    "# train_dataset = ForestCoverDataset(mode='train')\n",
    "# val_dataset = ForestCoverDataset(mode='val')\n",
    "\n",
    "BATCH_SIZE = 2\n",
    "\n",
    "train_loader = torch.utils.data.DataLoader(train_dataset, batch_size=BATCH_SIZE, shuffle=True, num_workers=4)\n",
    "val_loader = torch.utils.data.DataLoader(val_dataset, batch_size=BATCH_SIZE, shuffle=False, num_workers=4)\n",
    "\n",
    "# model = smp.DeepLabV3(\n",
    "#     encoder_name=\"resnet18\",\n",
    "#     encoder_weights=\"imagenet\",\n",
    "#     in_channels=3,\n",
    "#     classes=1,\n",
    "# )\n",
    "\n",
    "# model = TreepLab(\"Unet\", \"resnet18\", in_channels=3, out_classes=1)\n",
    "model = TreepLab(\"DeepLabV3\", \"resnet18\", in_channels=3, out_classes=1)\n",
    "\n",
    "trainer = pl.Trainer(\n",
    "    # gpus=1, \n",
    "    max_epochs=5,\n",
    ")\n",
    "\n",
    "trainer.fit(\n",
    "    model, \n",
    "    train_dataloaders=train_loader, \n",
    "    val_dataloaders=val_loader,\n",
    ")\n"
   ]
  }
 ],
 "metadata": {
  "language_info": {
   "name": "python"
  }
 },
 "nbformat": 4,
 "nbformat_minor": 2
}
